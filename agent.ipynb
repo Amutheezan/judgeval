{
 "cells": [
  {
   "cell_type": "code",
   "id": "initial_id",
   "metadata": {
    "collapsed": true,
    "ExecuteTime": {
     "end_time": "2025-07-18T19:39:02.134703Z",
     "start_time": "2025-07-18T19:39:02.097735Z"
    }
   },
   "source": [
    "import os\n",
    "\n",
    "from typing_extensions import override\n",
    "\n",
    "import secret_key\n",
    "from judgeval.tracer import Tracer\n",
    "from google import genai\n",
    "\n",
    "gen_ai_client = genai.client.Client(api_key=secret_key.GEMINI_API_KEY)"
   ],
   "outputs": [],
   "execution_count": 6
  },
  {
   "metadata": {
    "ExecuteTime": {
     "end_time": "2025-07-18T19:39:04.064433Z",
     "start_time": "2025-07-18T19:39:03.177053Z"
    }
   },
   "cell_type": "code",
   "source": [
    "judgment = Tracer(project_name=\"my_project\", api_key=secret_key.JUDGMENT_API_KEY, organization_id=secret_key.JUDGMENT_ORG_ID)\n",
    "\n",
    "@judgment.observe(span_type=\"tool\")\n",
    "def format_question(question: str) -> str:\n",
    "    # dummy tool\n",
    "    return f\"Question : {question}\"\n",
    "\n",
    "\n",
    "@judgment.observe(span_type=\"function\")\n",
    "def run_agent(prompt: str) -> str:\n",
    "    task = format_question(prompt)\n",
    "    response = gen_ai_client.models.generate_content(model=\"gemini-2.5-pro\", contents=task)\n",
    "    return response.text\n"
   ],
   "id": "474c5401c526f6bf",
   "outputs": [],
   "execution_count": 7
  },
  {
   "metadata": {
    "ExecuteTime": {
     "end_time": "2025-07-18T19:39:11.845399Z",
     "start_time": "2025-07-18T19:39:05.420511Z"
    }
   },
   "cell_type": "code",
   "source": "print(run_agent(\"What is the capital of the United States?\"))",
   "id": "38987a18f3e7ab27",
   "outputs": [
    {
     "data": {
      "text/plain": [
       "\n",
       "🔍 You can view your trace data here: \u001B]8;id=326490;https://app.judgmentlabs.ai/app/project/1169b8d8-61ce-4e41-8378-7b9facf8cadc/monitor?trace_id=e1f4d80d-f6c2-419e-989d-88947140b3e2&show_trace=true\u001B\\\u001B[38;2;106;0;255mView Trace\u001B[0m\u001B]8;;\u001B\\\n",
       "\n"
      ],
      "text/html": [
       "<pre style=\"white-space:pre;overflow-x:auto;line-height:normal;font-family:Menlo,'DejaVu Sans Mono',consolas,'Courier New',monospace\">\n",
       "🔍 You can view your trace data here: <a href=\"https://app.judgmentlabs.ai/app/project/1169b8d8-61ce-4e41-8378-7b9facf8cadc/monitor?trace_id=e1f4d80d-f6c2-419e-989d-88947140b3e2&show_trace=true\" target=\"_blank\"><span style=\"color: #6a00ff; text-decoration-color: #6a00ff\">View Trace</span></a>\n",
       "\n",
       "</pre>\n"
      ]
     },
     "metadata": {},
     "output_type": "display_data"
    },
    {
     "name": "stdout",
     "output_type": "stream",
     "text": [
      "The capital of the United States is **Washington, D.C.**\n",
      "\n",
      "\"D.C.\" stands for the **District of Columbia**, a federal district created specifically to be the seat of the U.S. government.\n"
     ]
    }
   ],
   "execution_count": 8
  },
  {
   "metadata": {
    "ExecuteTime": {
     "end_time": "2025-07-18T19:46:23.031770Z",
     "start_time": "2025-07-18T19:46:10.135808Z"
    }
   },
   "cell_type": "code",
   "source": [
    "from judgeval import JudgmentClient\n",
    "from judgeval.data import Example\n",
    "from judgeval.scorers import FaithfulnessScorer\n",
    "client = JudgmentClient(api_key=secret_key.JUDGMENT_API_KEY, organization_id=secret_key.JUDGMENT_ORG_ID)\n",
    "task = \"What is the capital of the United States?\"\n",
    "example = Example(\n",
    "    input=task,\n",
    "    actual_output=run_agent(task),  # e.g. \"The capital of the U.S. is Washington, D.C.\"\n",
    "    retrieval_context=[\"Washington D.C. was founded in 1790 and became the capital of the U.S.\"],\n",
    ")\n",
    "scorer = FaithfulnessScorer(threshold=0.5)\n",
    "client.assert_test(\n",
    "    examples=[example],\n",
    "    scorers=[scorer],\n",
    "    model=\"gemini-2.5-pro\",\n",
    ")"
   ],
   "id": "1d8f50b1d19a8a83",
   "outputs": [
    {
     "name": "stdout",
     "output_type": "stream",
     "text": [
      "2025-07-18 15:46:10 - judgeval - INFO - Successfully initialized JudgmentClient!\n"
     ]
    },
    {
     "data": {
      "text/plain": [
       "\n",
       "🔍 You can view your trace data here: \u001B]8;id=418781;https://app.judgmentlabs.ai/app/project/1169b8d8-61ce-4e41-8378-7b9facf8cadc/monitor?trace_id=f407264b-0d3f-482a-8c7d-097aafb4eaa2&show_trace=true\u001B\\\u001B[38;2;106;0;255mView Trace\u001B[0m\u001B]8;;\u001B\\\n",
       "\n"
      ],
      "text/html": [
       "<pre style=\"white-space:pre;overflow-x:auto;line-height:normal;font-family:Menlo,'DejaVu Sans Mono',consolas,'Courier New',monospace\">\n",
       "🔍 You can view your trace data here: <a href=\"https://app.judgmentlabs.ai/app/project/1169b8d8-61ce-4e41-8378-7b9facf8cadc/monitor?trace_id=f407264b-0d3f-482a-8c7d-097aafb4eaa2&show_trace=true\" target=\"_blank\"><span style=\"color: #6a00ff; text-decoration-color: #6a00ff\">View Trace</span></a>\n",
       "\n",
       "</pre>\n"
      ]
     },
     "metadata": {},
     "output_type": "display_data"
    },
    {
     "name": "stdout",
     "output_type": "stream",
     "text": [
      "                  \r  "
     ]
    },
    {
     "data": {
      "text/plain": [
       "\n",
       "🔍 You can view your evaluation results here: \u001B]8;id=702764;https://app.judgmentlabs.ai/app/project/2969ae8a-574c-4955-b81b-e9e85899de93/experiment?eval_run_name=68becfad-7e03-4488-b482-3bc6905a5371\u001B\\\u001B[38;2;106;0;255mView Results\u001B[0m\u001B]8;;\u001B\\\n",
       "\n"
      ],
      "text/html": [
       "<pre style=\"white-space:pre;overflow-x:auto;line-height:normal;font-family:Menlo,'DejaVu Sans Mono',consolas,'Courier New',monospace\">\n",
       "🔍 You can view your evaluation results here: <a href=\"https://app.judgmentlabs.ai/app/project/2969ae8a-574c-4955-b81b-e9e85899de93/experiment?eval_run_name=68becfad-7e03-4488-b482-3bc6905a5371\" target=\"_blank\"><span style=\"color: #6a00ff; text-decoration-color: #6a00ff\">View Results</span></a>\n",
       "\n",
       "</pre>\n"
      ]
     },
     "metadata": {},
     "output_type": "display_data"
    },
    {
     "data": {
      "text/plain": [
       "\n",
       "================================================================================\n"
      ],
      "text/html": [
       "<pre style=\"white-space:pre;overflow-x:auto;line-height:normal;font-family:Menlo,'DejaVu Sans Mono',consolas,'Courier New',monospace\">\n",
       "================================================================================\n",
       "</pre>\n"
      ]
     },
     "metadata": {},
     "output_type": "display_data"
    },
    {
     "data": {
      "text/plain": [
       "\u001B[1;31m⚠️  TEST RESULTS: \u001B[0m\u001B[1;31m0\u001B[0m\u001B[1;31m/\u001B[0m\u001B[1;31m1\u001B[0m\u001B[1;31m passed \u001B[0m\u001B[1;31m(\u001B[0m\u001B[1;31m1\u001B[0m\u001B[1;31m failed\u001B[0m\u001B[1;31m)\u001B[0m\n"
      ],
      "text/html": [
       "<pre style=\"white-space:pre;overflow-x:auto;line-height:normal;font-family:Menlo,'DejaVu Sans Mono',consolas,'Courier New',monospace\"><span style=\"color: #800000; text-decoration-color: #800000; font-weight: bold\">⚠️  TEST RESULTS: </span><span style=\"color: #800000; text-decoration-color: #800000; font-weight: bold\">0</span><span style=\"color: #800000; text-decoration-color: #800000; font-weight: bold\">/</span><span style=\"color: #800000; text-decoration-color: #800000; font-weight: bold\">1</span><span style=\"color: #800000; text-decoration-color: #800000; font-weight: bold\"> passed (</span><span style=\"color: #800000; text-decoration-color: #800000; font-weight: bold\">1</span><span style=\"color: #800000; text-decoration-color: #800000; font-weight: bold\"> failed)</span>\n",
       "</pre>\n"
      ]
     },
     "metadata": {},
     "output_type": "display_data"
    },
    {
     "data": {
      "text/plain": [
       "================================================================================\n",
       "\n"
      ],
      "text/html": [
       "<pre style=\"white-space:pre;overflow-x:auto;line-height:normal;font-family:Menlo,'DejaVu Sans Mono',consolas,'Courier New',monospace\">================================================================================\n",
       "\n",
       "</pre>\n"
      ]
     },
     "metadata": {},
     "output_type": "display_data"
    },
    {
     "data": {
      "text/plain": [
       "\u001B[31m✗ Test \u001B[0m\u001B[1;31m1\u001B[0m\u001B[31m: FAILED\u001B[0m\n"
      ],
      "text/html": [
       "<pre style=\"white-space:pre;overflow-x:auto;line-height:normal;font-family:Menlo,'DejaVu Sans Mono',consolas,'Courier New',monospace\"><span style=\"color: #800000; text-decoration-color: #800000\">✗ Test </span><span style=\"color: #800000; text-decoration-color: #800000; font-weight: bold\">1</span><span style=\"color: #800000; text-decoration-color: #800000\">: FAILED</span>\n",
       "</pre>\n"
      ]
     },
     "metadata": {},
     "output_type": "display_data"
    },
    {
     "data": {
      "text/plain": [
       "  \u001B[33mScorer: Faithfulness\u001B[0m\n"
      ],
      "text/html": [
       "<pre style=\"white-space:pre;overflow-x:auto;line-height:normal;font-family:Menlo,'DejaVu Sans Mono',consolas,'Courier New',monospace\">  <span style=\"color: #808000; text-decoration-color: #808000\">Scorer: Faithfulness</span>\n",
       "</pre>\n"
      ]
     },
     "metadata": {},
     "output_type": "display_data"
    },
    {
     "data": {
      "text/plain": [
       "  \u001B[31m  Score: \u001B[0m\u001B[3;31mNone\u001B[0m\n"
      ],
      "text/html": [
       "<pre style=\"white-space:pre;overflow-x:auto;line-height:normal;font-family:Menlo,'DejaVu Sans Mono',consolas,'Courier New',monospace\">  <span style=\"color: #800000; text-decoration-color: #800000\">  Score: </span><span style=\"color: #800000; text-decoration-color: #800000; font-style: italic\">None</span>\n",
       "</pre>\n"
      ]
     },
     "metadata": {},
     "output_type": "display_data"
    },
    {
     "data": {
      "text/plain": [
       "  \u001B[31m  Reason: \u001B[0m\n"
      ],
      "text/html": [
       "<pre style=\"white-space:pre;overflow-x:auto;line-height:normal;font-family:Menlo,'DejaVu Sans Mono',consolas,'Courier New',monospace\">  <span style=\"color: #800000; text-decoration-color: #800000\">  Reason: </span>\n",
       "</pre>\n"
      ]
     },
     "metadata": {},
     "output_type": "display_data"
    },
    {
     "data": {
      "text/plain": [
       "  \u001B[31m  Error: \u001B[0m\u001B[31m'exc_info'\u001B[0m\u001B[31m is an invalid keyword argument for \u001B[0m\u001B[1;31mprint\u001B[0m\u001B[1;31m(\u001B[0m\u001B[1;31m)\u001B[0m\n"
      ],
      "text/html": [
       "<pre style=\"white-space:pre;overflow-x:auto;line-height:normal;font-family:Menlo,'DejaVu Sans Mono',consolas,'Courier New',monospace\">  <span style=\"color: #800000; text-decoration-color: #800000\">  Error: </span><span style=\"color: #800000; text-decoration-color: #800000\">'exc_info'</span><span style=\"color: #800000; text-decoration-color: #800000\"> is an invalid keyword argument for </span><span style=\"color: #800000; text-decoration-color: #800000; font-weight: bold\">print()</span>\n",
       "</pre>\n"
      ]
     },
     "metadata": {},
     "output_type": "display_data"
    },
    {
     "data": {
      "text/plain": [
       "  ----------------------------------------\n"
      ],
      "text/html": [
       "<pre style=\"white-space:pre;overflow-x:auto;line-height:normal;font-family:Menlo,'DejaVu Sans Mono',consolas,'Courier New',monospace\">  ----------------------------------------\n",
       "</pre>\n"
      ]
     },
     "metadata": {},
     "output_type": "display_data"
    },
    {
     "data": {
      "text/plain": [
       "\n",
       "================================================================================\n"
      ],
      "text/html": [
       "<pre style=\"white-space:pre;overflow-x:auto;line-height:normal;font-family:Menlo,'DejaVu Sans Mono',consolas,'Courier New',monospace\">\n",
       "================================================================================\n",
       "</pre>\n"
      ]
     },
     "metadata": {},
     "output_type": "display_data"
    },
    {
     "ename": "AssertionError",
     "evalue": "[{'failed_scorers': [ScorerDataJudgmentType(name='Faithfulness', threshold=0.5, success=False, score=None, reason='', strict_mode=False, evaluation_model='gemini-2.5-pro', error=\"'exc_info' is an invalid keyword argument for print()\", additional_metadata=None)]}]",
     "output_type": "error",
     "traceback": [
      "\u001B[31m---------------------------------------------------------------------------\u001B[39m",
      "\u001B[31mAssertionError\u001B[39m                            Traceback (most recent call last)",
      "\u001B[36mCell\u001B[39m\u001B[36m \u001B[39m\u001B[32mIn[9]\u001B[39m\u001B[32m, line 12\u001B[39m\n\u001B[32m      6\u001B[39m example = Example(\n\u001B[32m      7\u001B[39m     \u001B[38;5;28minput\u001B[39m=task,\n\u001B[32m      8\u001B[39m     actual_output=run_agent(task),  \u001B[38;5;66;03m# e.g. \"The capital of the U.S. is Washington, D.C.\"\u001B[39;00m\n\u001B[32m      9\u001B[39m     retrieval_context=[\u001B[33m\"\u001B[39m\u001B[33mWashington D.C. was founded in 1790 and became the capital of the U.S.\u001B[39m\u001B[33m\"\u001B[39m],\n\u001B[32m     10\u001B[39m )\n\u001B[32m     11\u001B[39m scorer = FaithfulnessScorer(threshold=\u001B[32m0.5\u001B[39m)\n\u001B[32m---> \u001B[39m\u001B[32m12\u001B[39m \u001B[43mclient\u001B[49m\u001B[43m.\u001B[49m\u001B[43massert_test\u001B[49m\u001B[43m(\u001B[49m\n\u001B[32m     13\u001B[39m \u001B[43m    \u001B[49m\u001B[43mexamples\u001B[49m\u001B[43m=\u001B[49m\u001B[43m[\u001B[49m\u001B[43mexample\u001B[49m\u001B[43m]\u001B[49m\u001B[43m,\u001B[49m\n\u001B[32m     14\u001B[39m \u001B[43m    \u001B[49m\u001B[43mscorers\u001B[49m\u001B[43m=\u001B[49m\u001B[43m[\u001B[49m\u001B[43mscorer\u001B[49m\u001B[43m]\u001B[49m\u001B[43m,\u001B[49m\n\u001B[32m     15\u001B[39m \u001B[43m    \u001B[49m\u001B[43mmodel\u001B[49m\u001B[43m=\u001B[49m\u001B[33;43m\"\u001B[39;49m\u001B[33;43mgemini-2.5-pro\u001B[39;49m\u001B[33;43m\"\u001B[39;49m\u001B[43m,\u001B[49m\n\u001B[32m     16\u001B[39m \u001B[43m)\u001B[49m\n",
      "\u001B[36mFile \u001B[39m\u001B[32m/opt/anaconda3/envs/genai/lib/python3.12/site-packages/judgeval/judgment_client.py:495\u001B[39m, in \u001B[36mJudgmentClient.assert_test\u001B[39m\u001B[34m(self, examples, scorers, model, project_name, eval_run_name, override, append, async_execution)\u001B[39m\n\u001B[32m    492\u001B[39m     assert_test(actual_results)  \u001B[38;5;66;03m# Call the synchronous imported function\u001B[39;00m\n\u001B[32m    493\u001B[39m \u001B[38;5;28;01melse\u001B[39;00m:\n\u001B[32m    494\u001B[39m     \u001B[38;5;66;03m# 'results' is already List[ScoringResult] here (synchronous path)\u001B[39;00m\n\u001B[32m--> \u001B[39m\u001B[32m495\u001B[39m     \u001B[43massert_test\u001B[49m\u001B[43m(\u001B[49m\u001B[43mresults\u001B[49m\u001B[43m)\u001B[49m\n",
      "\u001B[36mFile \u001B[39m\u001B[32m/opt/anaconda3/envs/genai/lib/python3.12/site-packages/judgeval/run_evaluation.py:1086\u001B[39m, in \u001B[36massert_test\u001B[39m\u001B[34m(scoring_results)\u001B[39m\n\u001B[32m   1084\u001B[39m rprint(\u001B[33m\"\u001B[39m\u001B[38;5;130;01m\\n\u001B[39;00m\u001B[33m\"\u001B[39m + \u001B[33m\"\u001B[39m\u001B[33m=\u001B[39m\u001B[33m\"\u001B[39m * \u001B[32m80\u001B[39m)\n\u001B[32m   1085\u001B[39m \u001B[38;5;28;01mif\u001B[39;00m failed_tests > \u001B[32m0\u001B[39m:\n\u001B[32m-> \u001B[39m\u001B[32m1086\u001B[39m     \u001B[38;5;28;01mraise\u001B[39;00m \u001B[38;5;167;01mAssertionError\u001B[39;00m(failed_cases)\n",
      "\u001B[31mAssertionError\u001B[39m: [{'failed_scorers': [ScorerDataJudgmentType(name='Faithfulness', threshold=0.5, success=False, score=None, reason='', strict_mode=False, evaluation_model='gemini-2.5-pro', error=\"'exc_info' is an invalid keyword argument for print()\", additional_metadata=None)]}]"
     ]
    }
   ],
   "execution_count": 9
  },
  {
   "metadata": {
    "ExecuteTime": {
     "end_time": "2025-07-18T20:00:03.157351Z",
     "start_time": "2025-07-18T19:59:53.918222Z"
    }
   },
   "cell_type": "code",
   "source": [
    "from judgeval.scorers import AnswerCorrectnessScorer\n",
    "\n",
    "client = JudgmentClient(api_key=secret_key.JUDGMENT_API_KEY, organization_id=secret_key.JUDGMENT_ORG_ID)\n",
    "task = \"What is the capital of the United States?\"\n",
    "example = Example(\n",
    "    input=task,\n",
    "    actual_output=run_agent(task),  # e.g. \"The capital of the U.S. is Washington, D.C.\"\n",
    "    retrieval_context=[\"Washington D.C. was founded in 1790 and became the capital of the U.S.\"],\n",
    ")\n",
    "scorer = AnswerCorrectnessScorer(threshold=0.5)\n",
    "client.assert_test(\n",
    "    examples=[example],\n",
    "    scorers=[scorer],\n",
    "    model=\"gemini-2.5-pro\",\n",
    "    override=True\n",
    ")"
   ],
   "id": "1a25e1634431a625",
   "outputs": [
    {
     "data": {
      "text/plain": [
       "\n",
       "🔍 You can view your trace data here: \u001B]8;id=785252;https://app.judgmentlabs.ai/app/project/1169b8d8-61ce-4e41-8378-7b9facf8cadc/monitor?trace_id=744d5aae-4878-45c3-bdf8-3f81f4f780bc&show_trace=true\u001B\\\u001B[38;2;106;0;255mView Trace\u001B[0m\u001B]8;;\u001B\\\n",
       "\n"
      ],
      "text/html": [
       "<pre style=\"white-space:pre;overflow-x:auto;line-height:normal;font-family:Menlo,'DejaVu Sans Mono',consolas,'Courier New',monospace\">\n",
       "🔍 You can view your trace data here: <a href=\"https://app.judgmentlabs.ai/app/project/1169b8d8-61ce-4e41-8378-7b9facf8cadc/monitor?trace_id=744d5aae-4878-45c3-bdf8-3f81f4f780bc&show_trace=true\" target=\"_blank\"><span style=\"color: #6a00ff; text-decoration-color: #6a00ff\">View Trace</span></a>\n",
       "\n",
       "</pre>\n"
      ]
     },
     "metadata": {},
     "output_type": "display_data"
    },
    {
     "data": {
      "text/plain": [
       "\u001B[33m⚠️  WARNING:\u001B[0m Example is missing required parameters for scorer \u001B[1mAnswer Correctness\u001B[0m\n"
      ],
      "text/html": [
       "<pre style=\"white-space:pre;overflow-x:auto;line-height:normal;font-family:Menlo,'DejaVu Sans Mono',consolas,'Courier New',monospace\"><span style=\"color: #808000; text-decoration-color: #808000\">⚠️  WARNING:</span> Example is missing required parameters for scorer <span style=\"font-weight: bold\">Answer Correctness</span>\n",
       "</pre>\n"
      ]
     },
     "metadata": {},
     "output_type": "display_data"
    },
    {
     "data": {
      "text/plain": [
       "Missing parameters: expected_output\n"
      ],
      "text/html": [
       "<pre style=\"white-space:pre;overflow-x:auto;line-height:normal;font-family:Menlo,'DejaVu Sans Mono',consolas,'Courier New',monospace\">Missing parameters: expected_output\n",
       "</pre>\n"
      ]
     },
     "metadata": {},
     "output_type": "display_data"
    },
    {
     "data": {
      "text/plain": [
       "Example: \u001B[1m{\u001B[0m\n",
       "  \u001B[32m\"input\"\u001B[0m: \u001B[32m\"What is the capital of the United States?\"\u001B[0m,\n",
       "  \u001B[32m\"actual_output\"\u001B[0m: \u001B[32m\"The capital of the United States is **Washington, D.C.**\\n\\n\\\"D.C.\\\" stands for **District of \u001B[0m\n",
       "\u001B[32mColumbia**.\"\u001B[0m,\n",
       "  \u001B[32m\"expected_output\"\u001B[0m: null,\n",
       "  \u001B[32m\"context\"\u001B[0m: null,\n",
       "  \u001B[32m\"retrieval_context\"\u001B[0m: \u001B[1m[\u001B[0m\n",
       "    \u001B[32m\"Washington D.C. was founded in 1790 and became the capital of the U.S.\"\u001B[0m\n",
       "  \u001B[1m]\u001B[0m,\n",
       "  \u001B[32m\"additional_metadata\"\u001B[0m: null,\n",
       "  \u001B[32m\"tools_called\"\u001B[0m: \u001B[1m[\u001B[0m\u001B[1m]\u001B[0m,\n",
       "  \u001B[32m\"expected_tools\"\u001B[0m: \u001B[1m[\u001B[0m\u001B[1m]\u001B[0m,\n",
       "  \u001B[32m\"name\"\u001B[0m: null,\n",
       "  \u001B[32m\"example_id\"\u001B[0m: null,\n",
       "  \u001B[32m\"example_index\"\u001B[0m: \u001B[1;36m0\u001B[0m,\n",
       "  \u001B[32m\"created_at\"\u001B[0m: \u001B[32m\"2025-07-18T15:59:59.445811\"\u001B[0m,\n",
       "  \u001B[32m\"trace_id\"\u001B[0m: null,\n",
       "  \u001B[32m\"trace_span_id\"\u001B[0m: null,\n",
       "  \u001B[32m\"dataset_id\"\u001B[0m: null\n",
       "\u001B[1m}\u001B[0m\n"
      ],
      "text/html": [
       "<pre style=\"white-space:pre;overflow-x:auto;line-height:normal;font-family:Menlo,'DejaVu Sans Mono',consolas,'Courier New',monospace\">Example: <span style=\"font-weight: bold\">{</span>\n",
       "  <span style=\"color: #008000; text-decoration-color: #008000\">\"input\"</span>: <span style=\"color: #008000; text-decoration-color: #008000\">\"What is the capital of the United States?\"</span>,\n",
       "  <span style=\"color: #008000; text-decoration-color: #008000\">\"actual_output\"</span>: <span style=\"color: #008000; text-decoration-color: #008000\">\"The capital of the United States is **Washington, D.C.**\\n\\n\\\"D.C.\\\" stands for **District of </span>\n",
       "<span style=\"color: #008000; text-decoration-color: #008000\">Columbia**.\"</span>,\n",
       "  <span style=\"color: #008000; text-decoration-color: #008000\">\"expected_output\"</span>: null,\n",
       "  <span style=\"color: #008000; text-decoration-color: #008000\">\"context\"</span>: null,\n",
       "  <span style=\"color: #008000; text-decoration-color: #008000\">\"retrieval_context\"</span>: <span style=\"font-weight: bold\">[</span>\n",
       "    <span style=\"color: #008000; text-decoration-color: #008000\">\"Washington D.C. was founded in 1790 and became the capital of the U.S.\"</span>\n",
       "  <span style=\"font-weight: bold\">]</span>,\n",
       "  <span style=\"color: #008000; text-decoration-color: #008000\">\"additional_metadata\"</span>: null,\n",
       "  <span style=\"color: #008000; text-decoration-color: #008000\">\"tools_called\"</span>: <span style=\"font-weight: bold\">[]</span>,\n",
       "  <span style=\"color: #008000; text-decoration-color: #008000\">\"expected_tools\"</span>: <span style=\"font-weight: bold\">[]</span>,\n",
       "  <span style=\"color: #008000; text-decoration-color: #008000\">\"name\"</span>: null,\n",
       "  <span style=\"color: #008000; text-decoration-color: #008000\">\"example_id\"</span>: null,\n",
       "  <span style=\"color: #008000; text-decoration-color: #008000\">\"example_index\"</span>: <span style=\"color: #008080; text-decoration-color: #008080; font-weight: bold\">0</span>,\n",
       "  <span style=\"color: #008000; text-decoration-color: #008000\">\"created_at\"</span>: <span style=\"color: #008000; text-decoration-color: #008000\">\"2025-07-18T15:59:59.445811\"</span>,\n",
       "  <span style=\"color: #008000; text-decoration-color: #008000\">\"trace_id\"</span>: null,\n",
       "  <span style=\"color: #008000; text-decoration-color: #008000\">\"trace_span_id\"</span>: null,\n",
       "  <span style=\"color: #008000; text-decoration-color: #008000\">\"dataset_id\"</span>: null\n",
       "<span style=\"font-weight: bold\">}</span>\n",
       "</pre>\n"
      ]
     },
     "metadata": {},
     "output_type": "display_data"
    },
    {
     "data": {
      "text/plain": [
       "----------------------------------------\n"
      ],
      "text/html": [
       "<pre style=\"white-space:pre;overflow-x:auto;line-height:normal;font-family:Menlo,'DejaVu Sans Mono',consolas,'Courier New',monospace\">----------------------------------------\n",
       "</pre>\n"
      ]
     },
     "metadata": {},
     "output_type": "display_data"
    },
    {
     "ename": "SystemExit",
     "evalue": "0",
     "output_type": "error",
     "traceback": [
      "An exception has occurred, use %tb to see the full traceback.\n",
      "\u001B[31mSystemExit\u001B[39m\u001B[31m:\u001B[39m 0\n"
     ]
    },
    {
     "name": "stderr",
     "output_type": "stream",
     "text": [
      "/opt/anaconda3/envs/genai/lib/python3.12/site-packages/IPython/core/interactiveshell.py:3680: UserWarning: To exit: use 'exit', 'quit', or Ctrl-D.\n",
      "  warn(\"To exit: use 'exit', 'quit', or Ctrl-D.\", stacklevel=1)\n"
     ]
    }
   ],
   "execution_count": 13
  },
  {
   "metadata": {},
   "cell_type": "code",
   "outputs": [],
   "execution_count": null,
   "source": "",
   "id": "fd4b10d32c1a0f3f"
  }
 ],
 "metadata": {
  "kernelspec": {
   "display_name": "Python 3",
   "language": "python",
   "name": "python3"
  },
  "language_info": {
   "codemirror_mode": {
    "name": "ipython",
    "version": 2
   },
   "file_extension": ".py",
   "mimetype": "text/x-python",
   "name": "python",
   "nbconvert_exporter": "python",
   "pygments_lexer": "ipython2",
   "version": "2.7.6"
  }
 },
 "nbformat": 4,
 "nbformat_minor": 5
}
